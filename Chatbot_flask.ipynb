{
 "cells": [
  {
   "cell_type": "code",
   "execution_count": 1,
   "metadata": {},
   "outputs": [],
   "source": [
    "from flask import Flask\n",
    "from flask_restful import Api, Resource\n",
    "from flask_cors import CORS\n"
   ]
  },
  {
   "cell_type": "code",
   "execution_count": 2,
   "metadata": {},
   "outputs": [],
   "source": [
    "import random\n",
    "import json\n",
    "import pickle\n",
    "import numpy as np"
   ]
  },
  {
   "cell_type": "code",
   "execution_count": 3,
   "metadata": {},
   "outputs": [],
   "source": [
    "import nltk\n",
    "from nltk.stem import WordNetLemmatizer"
   ]
  },
  {
   "cell_type": "code",
   "execution_count": 4,
   "metadata": {},
   "outputs": [],
   "source": [
    "from tensorflow.keras.models import load_model"
   ]
  },
  {
   "cell_type": "code",
   "execution_count": 5,
   "metadata": {},
   "outputs": [],
   "source": [
    "lemmatizer = WordNetLemmatizer()\n",
    "intents = json.loads(open('intents/intents.json').read())"
   ]
  },
  {
   "cell_type": "code",
   "execution_count": 6,
   "metadata": {},
   "outputs": [],
   "source": [
    "words = pickle.load(open('words.pkl','rb'))\n",
    "classes = pickle.load(open('classes.pkl','rb'))\n",
    "model = load_model('chatbot_model.h5')"
   ]
  },
  {
   "cell_type": "code",
   "execution_count": 7,
   "metadata": {},
   "outputs": [],
   "source": [
    "def clean_up_sentence(sentence):\n",
    "    sentence_words = nltk.word_tokenize(sentence)\n",
    "    sentence_words = [lemmatizer.lemmatize(word) for word in sentence_words]\n",
    "    return sentence_words"
   ]
  },
  {
   "cell_type": "code",
   "execution_count": 8,
   "metadata": {},
   "outputs": [],
   "source": [
    "def bag_of_words(sentence):\n",
    "    sentence_words = clean_up_sentence(sentence)\n",
    "    bag = [0] * len(words)\n",
    "    for w in sentence_words:\n",
    "        for i, word in enumerate(words):\n",
    "            if word ==w:\n",
    "                bag[i] = 1\n",
    "    return np.array(bag)"
   ]
  },
  {
   "cell_type": "code",
   "execution_count": 9,
   "metadata": {},
   "outputs": [],
   "source": [
    "def predict_class(sentence):\n",
    "    bow = bag_of_words(sentence)\n",
    "    res = model.predict(np.array([bow]))[0]\n",
    "    ERROR_THRESHOLD = 0.25\n",
    "    results = [[i,r] for i, r in enumerate(res) if r > ERROR_THRESHOLD]\n",
    "    \n",
    "    results.sort(key=lambda x: x[1], reverse=True)\n",
    "    return_list = []\n",
    "    for r in results:\n",
    "        return_list.append({'intent':classes[r[0]],'probability':str(r[1])})\n",
    "    return return_list"
   ]
  },
  {
   "cell_type": "code",
   "execution_count": 10,
   "metadata": {},
   "outputs": [],
   "source": [
    "def get_response(intents_list,intents_json):\n",
    "    tag = intents_list[0]['intent']\n",
    "    list_of_intents = intents_json['intents']\n",
    "    for i in list_of_intents:\n",
    "        if i['tag'] == tag:\n",
    "            result = random.choice(i['responses'])\n",
    "            break\n",
    "    return result"
   ]
  },
  {
   "cell_type": "code",
   "execution_count": 11,
   "metadata": {},
   "outputs": [],
   "source": [
    "def chat_bot_response(message):\n",
    "    ints = predict_class(message)\n",
    "    res = get_response(ints, intents)\n",
    "    return res"
   ]
  },
  {
   "cell_type": "code",
   "execution_count": null,
   "metadata": {},
   "outputs": [
    {
     "name": "stdout",
     "output_type": "stream",
     "text": [
      " * Serving Flask app \"__main__\" (lazy loading)\n",
      " * Environment: production\n",
      "\u001b[31m   WARNING: This is a development server. Do not use it in a production deployment.\u001b[0m\n",
      "\u001b[2m   Use a production WSGI server instead.\u001b[0m\n",
      " * Debug mode: off\n"
     ]
    },
    {
     "name": "stderr",
     "output_type": "stream",
     "text": [
      " * Running on http://127.0.0.1:5000/ (Press CTRL+C to quit)\n",
      "127.0.0.1 - - [18/Mar/2022 16:35:14] \"\u001b[37mGET /chatbot/hi HTTP/1.1\u001b[0m\" 200 -\n",
      "127.0.0.1 - - [18/Mar/2022 16:35:23] \"\u001b[37mGET /chatbot/love HTTP/1.1\u001b[0m\" 200 -\n",
      "127.0.0.1 - - [18/Mar/2022 16:35:25] \"\u001b[37mGET /chatbot/food HTTP/1.1\u001b[0m\" 200 -\n",
      "127.0.0.1 - - [18/Mar/2022 16:37:20] \"\u001b[37mGET /chatbot/name HTTP/1.1\u001b[0m\" 200 -\n",
      "127.0.0.1 - - [18/Mar/2022 16:37:33] \"\u001b[37mGET /chatbot/name HTTP/1.1\u001b[0m\" 200 -\n",
      "127.0.0.1 - - [18/Mar/2022 16:37:41] \"\u001b[37mGET /chatbot/hi HTTP/1.1\u001b[0m\" 200 -\n",
      "127.0.0.1 - - [18/Mar/2022 16:38:21] \"\u001b[37mGET /chatbot/hi HTTP/1.1\u001b[0m\" 200 -\n",
      "127.0.0.1 - - [18/Mar/2022 16:39:05] \"\u001b[37mGET /chatbot/hi HTTP/1.1\u001b[0m\" 200 -\n",
      "127.0.0.1 - - [18/Mar/2022 16:39:10] \"\u001b[37mGET /chatbot/love%20you HTTP/1.1\u001b[0m\" 200 -\n",
      "127.0.0.1 - - [18/Mar/2022 16:42:36] \"\u001b[37mGET /chatbot/david HTTP/1.1\u001b[0m\" 200 -\n",
      "127.0.0.1 - - [18/Mar/2022 16:42:43] \"\u001b[37mGET /chatbot/what%20is%20your%20name HTTP/1.1\u001b[0m\" 200 -\n",
      "127.0.0.1 - - [18/Mar/2022 16:42:46] \"\u001b[37mGET /chatbot/food HTTP/1.1\u001b[0m\" 200 -\n",
      "127.0.0.1 - - [18/Mar/2022 16:42:58] \"\u001b[37mGET /chatbot/name HTTP/1.1\u001b[0m\" 200 -\n",
      "127.0.0.1 - - [18/Mar/2022 16:43:08] \"\u001b[37mGET /chatbot/good%20bye HTTP/1.1\u001b[0m\" 200 -\n",
      "127.0.0.1 - - [18/Mar/2022 16:43:21] \"\u001b[37mGET /chatbot/what%20time HTTP/1.1\u001b[0m\" 200 -\n",
      "127.0.0.1 - - [18/Mar/2022 16:43:25] \"\u001b[37mGET /chatbot/love HTTP/1.1\u001b[0m\" 200 -\n",
      "127.0.0.1 - - [18/Mar/2022 16:43:26] \"\u001b[37mGET /chatbot/lovetime HTTP/1.1\u001b[0m\" 200 -\n",
      "127.0.0.1 - - [18/Mar/2022 16:43:28] \"\u001b[37mGET /chatbot/time HTTP/1.1\u001b[0m\" 200 -\n",
      "127.0.0.1 - - [18/Mar/2022 16:44:42] \"\u001b[37mGET /chatbot/time HTTP/1.1\u001b[0m\" 200 -\n",
      "127.0.0.1 - - [18/Mar/2022 16:44:54] \"\u001b[37mGET /chatbot/time HTTP/1.1\u001b[0m\" 200 -\n",
      "127.0.0.1 - - [18/Mar/2022 16:45:10] \"\u001b[37mGET /chatbot/time HTTP/1.1\u001b[0m\" 200 -\n",
      "127.0.0.1 - - [18/Mar/2022 16:45:13] \"\u001b[37mGET /chatbot/time HTTP/1.1\u001b[0m\" 200 -\n",
      "127.0.0.1 - - [18/Mar/2022 16:45:24] \"\u001b[37mGET /chatbot/time HTTP/1.1\u001b[0m\" 200 -\n",
      "127.0.0.1 - - [18/Mar/2022 16:45:26] \"\u001b[37mGET /chatbot/time HTTP/1.1\u001b[0m\" 200 -\n",
      "127.0.0.1 - - [18/Mar/2022 16:46:12] \"\u001b[37mGET /chatbot/time HTTP/1.1\u001b[0m\" 200 -\n",
      "127.0.0.1 - - [18/Mar/2022 16:46:19] \"\u001b[37mGET /chatbot/time HTTP/1.1\u001b[0m\" 200 -\n",
      "127.0.0.1 - - [18/Mar/2022 16:46:31] \"\u001b[37mGET /chatbot/time HTTP/1.1\u001b[0m\" 200 -\n",
      "127.0.0.1 - - [18/Mar/2022 16:47:48] \"\u001b[37mGET /chatbot/0 HTTP/1.1\u001b[0m\" 200 -\n",
      "127.0.0.1 - - [18/Mar/2022 16:48:27] \"\u001b[37mGET /chatbot/0 HTTP/1.1\u001b[0m\" 200 -\n",
      "127.0.0.1 - - [18/Mar/2022 16:49:16] \"\u001b[37mGET /chatbot/0 HTTP/1.1\u001b[0m\" 200 -\n",
      "127.0.0.1 - - [18/Mar/2022 16:49:38] \"\u001b[37mGET /chatbot/0 HTTP/1.1\u001b[0m\" 200 -\n",
      "127.0.0.1 - - [18/Mar/2022 16:50:00] \"\u001b[37mGET /chatbot/0 HTTP/1.1\u001b[0m\" 200 -\n",
      "127.0.0.1 - - [18/Mar/2022 16:50:07] \"\u001b[37mGET /chatbot/0 HTTP/1.1\u001b[0m\" 200 -\n",
      "127.0.0.1 - - [18/Mar/2022 16:50:57] \"\u001b[37mGET /chatbot/hello HTTP/1.1\u001b[0m\" 200 -\n",
      "127.0.0.1 - - [18/Mar/2022 16:50:59] \"\u001b[37mGET /chatbot/love HTTP/1.1\u001b[0m\" 200 -\n",
      "127.0.0.1 - - [18/Mar/2022 16:51:09] \"\u001b[37mGET /chatbot/name HTTP/1.1\u001b[0m\" 200 -\n",
      "127.0.0.1 - - [18/Mar/2022 16:52:02] \"\u001b[37mGET /chatbot/name HTTP/1.1\u001b[0m\" 200 -\n",
      "127.0.0.1 - - [18/Mar/2022 16:52:14] \"\u001b[37mGET /chatbot/name HTTP/1.1\u001b[0m\" 200 -\n",
      "127.0.0.1 - - [18/Mar/2022 16:52:58] \"\u001b[37mGET /chatbot/0 HTTP/1.1\u001b[0m\" 200 -\n",
      "127.0.0.1 - - [18/Mar/2022 16:54:05] \"\u001b[37mGET /chatbot/0 HTTP/1.1\u001b[0m\" 200 -\n",
      "127.0.0.1 - - [18/Mar/2022 16:54:34] \"\u001b[37mGET /chatbot/0 HTTP/1.1\u001b[0m\" 200 -\n",
      "127.0.0.1 - - [18/Mar/2022 16:54:44] \"\u001b[37mGET /chatbot/0 HTTP/1.1\u001b[0m\" 200 -\n",
      "127.0.0.1 - - [18/Mar/2022 16:55:29] \"\u001b[37mGET /chatbot/0 HTTP/1.1\u001b[0m\" 200 -\n",
      "127.0.0.1 - - [18/Mar/2022 16:58:20] \"\u001b[37mGET /chatbot/0 HTTP/1.1\u001b[0m\" 200 -\n",
      "127.0.0.1 - - [18/Mar/2022 16:59:07] \"\u001b[37mGET /chatbot/what%20is%20love HTTP/1.1\u001b[0m\" 200 -\n",
      "127.0.0.1 - - [18/Mar/2022 16:59:15] \"\u001b[37mGET /chatbot/food HTTP/1.1\u001b[0m\" 200 -\n",
      "127.0.0.1 - - [18/Mar/2022 16:59:20] \"\u001b[37mGET /chatbot/time HTTP/1.1\u001b[0m\" 200 -\n",
      "127.0.0.1 - - [18/Mar/2022 17:01:55] \"\u001b[37mGET /chatbot/time HTTP/1.1\u001b[0m\" 200 -\n",
      "127.0.0.1 - - [18/Mar/2022 17:02:25] \"\u001b[37mGET /chatbot/time HTTP/1.1\u001b[0m\" 200 -\n",
      "127.0.0.1 - - [18/Mar/2022 17:08:31] \"\u001b[37mGET /chatbot/time HTTP/1.1\u001b[0m\" 200 -\n",
      "127.0.0.1 - - [18/Mar/2022 17:09:07] \"\u001b[37mGET /chatbot/what%20is%20love HTTP/1.1\u001b[0m\" 200 -\n",
      "127.0.0.1 - - [18/Mar/2022 17:09:15] \"\u001b[37mGET /chatbot/whats%20the%20time HTTP/1.1\u001b[0m\" 200 -\n",
      "127.0.0.1 - - [18/Mar/2022 17:09:18] \"\u001b[37mGET /chatbot/what%20is%20ur%20name HTTP/1.1\u001b[0m\" 200 -\n",
      "127.0.0.1 - - [18/Mar/2022 17:09:27] \"\u001b[37mGET /chatbot/what%20is%20ur%20age HTTP/1.1\u001b[0m\" 200 -\n",
      "127.0.0.1 - - [18/Mar/2022 17:09:31] \"\u001b[37mGET /chatbot/what%20is%20ur%20fav%20food HTTP/1.1\u001b[0m\" 200 -\n",
      "127.0.0.1 - - [18/Mar/2022 17:10:30] \"\u001b[37mGET /chatbot/what%20is%20ur%20fav%20food HTTP/1.1\u001b[0m\" 200 -\n",
      "127.0.0.1 - - [18/Mar/2022 17:10:43] \"\u001b[37mGET /chatbot/what%20is%20ur%20fav%20food HTTP/1.1\u001b[0m\" 200 -\n",
      "127.0.0.1 - - [18/Mar/2022 17:10:48] \"\u001b[37mGET /chatbot/penis HTTP/1.1\u001b[0m\" 200 -\n",
      "127.0.0.1 - - [18/Mar/2022 17:10:53] \"\u001b[37mGET /chatbot/what%20is%20ur%20name HTTP/1.1\u001b[0m\" 200 -\n",
      "127.0.0.1 - - [18/Mar/2022 17:12:10] \"\u001b[37mGET /chatbot/0 HTTP/1.1\u001b[0m\" 200 -\n",
      "127.0.0.1 - - [18/Mar/2022 17:12:15] \"\u001b[37mGET /chatbot/0 HTTP/1.1\u001b[0m\" 200 -\n",
      "127.0.0.1 - - [18/Mar/2022 17:13:02] \"\u001b[37mGET /chatbot/0 HTTP/1.1\u001b[0m\" 200 -\n",
      "127.0.0.1 - - [18/Mar/2022 17:13:17] \"\u001b[37mGET /chatbot/0 HTTP/1.1\u001b[0m\" 200 -\n",
      "127.0.0.1 - - [18/Mar/2022 17:13:23] \"\u001b[37mGET /chatbot/0 HTTP/1.1\u001b[0m\" 200 -\n",
      "127.0.0.1 - - [18/Mar/2022 17:13:36] \"\u001b[37mGET /chatbot/0 HTTP/1.1\u001b[0m\" 200 -\n",
      "127.0.0.1 - - [18/Mar/2022 17:13:46] \"\u001b[37mGET /chatbot/apri; HTTP/1.1\u001b[0m\" 200 -\n",
      "127.0.0.1 - - [18/Mar/2022 17:13:48] \"\u001b[37mGET /chatbot/april HTTP/1.1\u001b[0m\" 200 -\n",
      "127.0.0.1 - - [18/Mar/2022 17:13:56] \"\u001b[37mGET /chatbot/0 HTTP/1.1\u001b[0m\" 200 -\n",
      "127.0.0.1 - - [18/Mar/2022 17:14:31] \"\u001b[37mGET /chatbot/0 HTTP/1.1\u001b[0m\" 200 -\n",
      "127.0.0.1 - - [18/Mar/2022 17:14:37] \"\u001b[37mGET /chatbot/hgi HTTP/1.1\u001b[0m\" 200 -\n",
      "127.0.0.1 - - [18/Mar/2022 17:14:39] \"\u001b[37mGET /chatbot/yo HTTP/1.1\u001b[0m\" 200 -\n",
      "127.0.0.1 - - [18/Mar/2022 17:14:42] \"\u001b[37mGET /chatbot/hello HTTP/1.1\u001b[0m\" 200 -\n"
     ]
    }
   ],
   "source": [
    "app = Flask(__name__)\n",
    "api = Api(app)\n",
    "\n",
    "\n",
    "#setting up my chatbotwebsite as primary origin so i can get access from this rest api\n",
    "cors = CORS(app, resources={r\"/*\": {\"origin\":\"http://localhost:3000/chatbot-april\"}})\n",
    "\n",
    "class Chatbot(Resource):\n",
    "    def get(self, message):\n",
    "        return chat_bot_response(message)\n",
    "    \n",
    "api.add_resource(Chatbot, \"/chatbot/<message>\")\n",
    "\n",
    "if __name__ == \"__main__\":\n",
    "    app.run(debug=False)"
   ]
  },
  {
   "cell_type": "code",
   "execution_count": null,
   "metadata": {},
   "outputs": [],
   "source": []
  },
  {
   "cell_type": "code",
   "execution_count": null,
   "metadata": {},
   "outputs": [],
   "source": []
  },
  {
   "cell_type": "code",
   "execution_count": null,
   "metadata": {},
   "outputs": [],
   "source": []
  }
 ],
 "metadata": {
  "kernelspec": {
   "display_name": "Python 3",
   "language": "python",
   "name": "python3"
  },
  "language_info": {
   "codemirror_mode": {
    "name": "ipython",
    "version": 3
   },
   "file_extension": ".py",
   "mimetype": "text/x-python",
   "name": "python",
   "nbconvert_exporter": "python",
   "pygments_lexer": "ipython3",
   "version": "3.7.6"
  }
 },
 "nbformat": 4,
 "nbformat_minor": 4
}
